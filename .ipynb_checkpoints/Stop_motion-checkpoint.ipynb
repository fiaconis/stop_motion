{
 "cells": [
  {
   "cell_type": "code",
   "execution_count": 8,
   "metadata": {},
   "outputs": [],
   "source": [
    "import numpy as np\n",
    "import cv2\n",
    "import time\n",
    "from tqdm import tqdm\n",
    "import glob\n",
    "import os"
   ]
  },
  {
   "cell_type": "markdown",
   "metadata": {},
   "source": [
    "## Captura de imagenes"
   ]
  },
  {
   "cell_type": "code",
   "execution_count": 10,
   "metadata": {},
   "outputs": [],
   "source": [
    "cap = cv2.VideoCapture(1)\n",
    "speed = 20 #cuan mas rapido queres que sea el video\n",
    "i = 0\n",
    "while (True):\n",
    "    \n",
    "    time.sleep (speed*1.0/20.0);\n",
    "    ret,frame = cap.read()\n",
    "    #print ret\n",
    "    name = f'Frames/Frame{i}.png'\n",
    "    cv2.imwrite(name, frame)\n",
    "    cv2.waitKey(1)\n",
    "    cv2.imshow('Frame',frame)\n",
    "    i=i+1\n",
    "    if cv2.waitKey(1) & 0xFF==ord('q'): # Para terminar de grabar hay que apretar la tecla 'q'\n",
    "        break\n",
    "\n",
    "cap.release()\n",
    "cv2.destroyAllWindows()"
   ]
  },
  {
   "cell_type": "markdown",
   "metadata": {},
   "source": [
    "## Creación del video"
   ]
  },
  {
   "cell_type": "code",
   "execution_count": 11,
   "metadata": {},
   "outputs": [
    {
     "name": "stderr",
     "output_type": "stream",
     "text": [
      "100%|██████████████████████████████████████████████████████████████████████████████████| 31/31 [00:00<00:00, 32.92it/s]\n"
     ]
    }
   ],
   "source": [
    "image_folder = 'Frames/'\n",
    "video_name = 'video.avi'\n",
    "fourcc = cv2.VideoWriter_fourcc(*'MJPG')\n",
    "images = glob.glob(image_folder+'*')\n",
    "images.sort(key=lambda x: os.path.getmtime(f'{x}')) # ordeno las imagenes en orden cronologico\n",
    "frame = cv2.imread(images[0]) #abro una imagen para saber el tamaño que tienen y asi setear el tamaño del video\n",
    "height, width, layers = frame.shape\n",
    "video = cv2.VideoWriter(video_name, fourcc, 20, (width,height)) #el tercer argumento son los cuadros por segundo que va a tener el video\n",
    "for image in tqdm(images):\n",
    "    video.write(cv2.imread(image))\n",
    "cv2.destroyAllWindows()\n",
    "video.release()"
   ]
  },
  {
   "cell_type": "code",
   "execution_count": null,
   "metadata": {},
   "outputs": [],
   "source": []
  }
 ],
 "metadata": {
  "kernelspec": {
   "display_name": "Python 3",
   "language": "python",
   "name": "python3"
  },
  "language_info": {
   "codemirror_mode": {
    "name": "ipython",
    "version": 3
   },
   "file_extension": ".py",
   "mimetype": "text/x-python",
   "name": "python",
   "nbconvert_exporter": "python",
   "pygments_lexer": "ipython3",
   "version": "3.8.4"
  }
 },
 "nbformat": 4,
 "nbformat_minor": 4
}
